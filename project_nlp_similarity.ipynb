{
 "cells": [
  {
   "attachments": {},
   "cell_type": "markdown",
   "metadata": {},
   "source": [
    "Notebook principal"
   ]
  },
  {
   "cell_type": "code",
   "execution_count": null,
   "metadata": {},
   "outputs": [],
   "source": [
    "from data_factory.cleaning import create_clean_dataframe\n",
    "from data_factory.params import list_columns_name\n",
    "import pandas as pd\n",
    "#from metric_factory.menli import compute_menli\n",
    "\n",
    "df_ann = pd.read_csv('https://raw.githubusercontent.com/dig-team/hanna-benchmark-asg/main/hanna_stories_annotations.csv')\n",
    "df_scoring = pd.read_csv('https://raw.githubusercontent.com/dig-team/hanna-benchmark-asg/main/hanna_metric_scores.csv')\n",
    "\n",
    "df = create_clean_dataframe(df_ann, df_scoring, list_columns_name).reset_index()\n",
    "#df_menli = compute_menli(df)\n",
    "# ajoute une fonction\n",
    "\n",
    "# pour des raisons de temps de calcul, nous avons enregistré l'output de compute_menli sous la forme d'un csv\n",
    "#df_menli = pd.read_csv(\"/Users/FVDS09221/Desktop/NLP-text-similarity/metric_factory/df_MENLI.csv\")"
   ]
  }
 ],
 "metadata": {
  "kernelspec": {
   "display_name": "Python 3",
   "language": "python",
   "name": "python3"
  },
  "language_info": {
   "name": "python",
   "version": "3.9.6"
  },
  "orig_nbformat": 4,
  "vscode": {
   "interpreter": {
    "hash": "31f2aee4e71d21fbe5cf8b01ff0e069b9275f58929596ceb00d14d90e3e16cd6"
   }
  }
 },
 "nbformat": 4,
 "nbformat_minor": 2
}
